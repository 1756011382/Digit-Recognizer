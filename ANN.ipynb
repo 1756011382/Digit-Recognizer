{
 "cells": [
  {
   "cell_type": "code",
   "execution_count": 1,
   "metadata": {},
   "outputs": [],
   "source": [
    "import os\n",
    "from PIL import Image\n",
    "import numpy as np"
   ]
  },
  {
   "cell_type": "code",
   "execution_count": 2,
   "metadata": {},
   "outputs": [],
   "source": [
    "#把图片灰度处理后array格式打开\n",
    "def open_file(filepath,num=2):\n",
    "    X =[]\n",
    "    Y =[]\n",
    "    filelist = os.listdir(filepath)\n",
    "    for file in filelist:\n",
    "        filepath1 = filepath + '/'+file\n",
    "        imglist = os.listdir(filepath1)\n",
    "        for imgname in imglist:\n",
    "            path = filepath1 +'/'+imgname\n",
    "            img = Image.open(path).convert('L')\n",
    "            imagedeal=ImageDeal(img)\n",
    "            X.append(imagedeal.ImgStride(num))\n",
    "            Y.append(file)\n",
    "    return X,Y"
   ]
  },
  {
   "cell_type": "code",
   "execution_count": 7,
   "metadata": {},
   "outputs": [],
   "source": [
    "#二值化处理矩阵后压缩\n",
    "class ImageDeal:\n",
    "    def __init__(self,img):\n",
    "        self.img = img\n",
    "        \n",
    "    def point(self,z=80):\n",
    "        return self.img.point(lambda x:1 if x>z else 0)\n",
    "    \n",
    "    def ImgStride(self,num = 2):\n",
    "        img = self.point()\n",
    "        imgArray=np.array(img)\n",
    "        h,w = imgArray.shape\n",
    "        if num>=2:\n",
    "            data =[]\n",
    "            for  i in range(int(h/num)):\n",
    "                y_offset = i*num\n",
    "                s =[]\n",
    "                for j in range(int(w/num)):\n",
    "                    x_offset = j*num\n",
    "                    s.append(sum(sum(imgArray[y_offset:y_offset+num,x_offset:x_offset+num])))\n",
    "                data.append(s)\n",
    "            data = np.array(data)\n",
    "        else:\n",
    "            data = imgArray\n",
    "        return data.reshape(data.shape[1]*data.shape[0])"
   ]
  },
  {
   "cell_type": "code",
   "execution_count": 8,
   "metadata": {},
   "outputs": [],
   "source": [
    "X_train,Y_train=open_file('data/trainimage',num=2)\n",
    "X_test,Y_test=open_file('data/testimage',num=2)"
   ]
  },
  {
   "cell_type": "code",
   "execution_count": 13,
   "metadata": {},
   "outputs": [
    {
     "data": {
      "text/plain": [
       "array([[0, 0, 0, ..., 0, 0, 0],\n",
       "       [0, 0, 0, ..., 0, 0, 0],\n",
       "       [0, 0, 0, ..., 0, 0, 0],\n",
       "       ...,\n",
       "       [0, 0, 0, ..., 0, 0, 0],\n",
       "       [0, 0, 0, ..., 0, 0, 0],\n",
       "       [0, 0, 0, ..., 0, 0, 0]])"
      ]
     },
     "execution_count": 13,
     "metadata": {},
     "output_type": "execute_result"
    }
   ],
   "source": [
    "np.array(X_train)"
   ]
  },
  {
   "cell_type": "code",
   "execution_count": 14,
   "metadata": {},
   "outputs": [],
   "source": [
    "from sklearn.neural_network import MLPClassifier\n",
    "from sklearn.metrics import classification_report"
   ]
  },
  {
   "cell_type": "code",
   "execution_count": 15,
   "metadata": {},
   "outputs": [],
   "source": [
    "ann = MLPClassifier(alpha=0.01, hidden_layer_sizes=(200,100),activation='tanh',solver='sgd')"
   ]
  },
  {
   "cell_type": "code",
   "execution_count": null,
   "metadata": {},
   "outputs": [],
   "source": [
    "#简单调参\n",
    "from sklearn.metrics import f1_score\n",
    "alpha1 = [0.001,0.01,0.1,1,10,100]\n",
    "for a in alpha1:\n",
    "    ann1 = MLPClassifier(alpha=a, hidden_layer_sizes=(100,50),activation='tanh',solver='sgd')\n",
    "    ann1.fit(X_train,Y_train)\n",
    "    Y_pred1 = ann1.predict(X_test)\n",
    "    f1score = f1_score(Y_test,Y_pred1,average='weighted')\n",
    "    print(a,f1score)"
   ]
  },
  {
   "cell_type": "code",
   "execution_count": 16,
   "metadata": {},
   "outputs": [
    {
     "name": "stderr",
     "output_type": "stream",
     "text": [
      "C:\\Python\\Python36\\Lib\\site-packages\\sklearn\\neural_network\\multilayer_perceptron.py:564: ConvergenceWarning: Stochastic Optimizer: Maximum iterations (200) reached and the optimization hasn't converged yet.\n",
      "  % self.max_iter, ConvergenceWarning)\n"
     ]
    },
    {
     "name": "stdout",
     "output_type": "stream",
     "text": [
      "             precision    recall  f1-score   support\n",
      "\n",
      "          0       0.98      0.98      0.98       980\n",
      "          1       0.99      0.99      0.99      1135\n",
      "          2       0.97      0.98      0.97      1032\n",
      "          3       0.97      0.98      0.97      1010\n",
      "          4       0.98      0.98      0.98       982\n",
      "          5       0.98      0.97      0.98       892\n",
      "          6       0.98      0.98      0.98       958\n",
      "          7       0.97      0.97      0.97      1028\n",
      "          8       0.99      0.97      0.98       974\n",
      "          9       0.97      0.97      0.97      1009\n",
      "\n",
      "avg / total       0.98      0.98      0.98     10000\n",
      "\n"
     ]
    }
   ],
   "source": [
    "#训练模型，预测，评估\n",
    "ann.fit(X_train,Y_train)\n",
    "Y_pred=ann.predict(X_test)\n",
    "print(classification_report(Y_test,Y_pred))"
   ]
  },
  {
   "cell_type": "code",
   "execution_count": null,
   "metadata": {},
   "outputs": [],
   "source": []
  }
 ],
 "metadata": {
  "kernelspec": {
   "display_name": "Python 3",
   "language": "python",
   "name": "python3"
  },
  "language_info": {
   "codemirror_mode": {
    "name": "ipython",
    "version": 3
   },
   "file_extension": ".py",
   "mimetype": "text/x-python",
   "name": "python",
   "nbconvert_exporter": "python",
   "pygments_lexer": "ipython3",
   "version": "3.6.5"
  }
 },
 "nbformat": 4,
 "nbformat_minor": 2
}
